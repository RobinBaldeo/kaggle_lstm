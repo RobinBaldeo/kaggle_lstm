{
 "cells": [
  {
   "cell_type": "code",
   "execution_count": 13,
   "id": "6c50768d",
   "metadata": {},
   "outputs": [],
   "source": [
    "import polars as pl\n",
    "import spacy\n",
    "import torch\n",
    "from collections import namedtuple\n",
    "from preprocess import load_data\n",
    "from transformers import  AutoTokenizer\n",
    "import joblib\n",
    "\n"
   ]
  },
  {
   "cell_type": "code",
   "execution_count": 14,
   "id": "a666d5b2",
   "metadata": {},
   "outputs": [],
   "source": [
    "# args\n",
    "model_directory = \"C:/Users/prl90/PycharmProjects/kaggle_lstm/bert_tiny/\"\n",
    "stride = 20\n",
    "max_length  = 450\n",
    "test_path = 'C:/Users/prl90/PycharmProjects/kaggle_lstm/data/train.json'\n"
   ]
  },
  {
   "cell_type": "code",
   "execution_count": 15,
   "id": "d5c6d79a",
   "metadata": {},
   "outputs": [],
   "source": [
    "\n",
    "def load_data(file_path, train=True):\n",
    "    df = pl.read_json(file_path).lazy()\n",
    "    reshaped_df = (\n",
    "        df\n",
    "        .with_columns(\n",
    "            token_keys=pl.col('tokens')\n",
    "            .map_elements(lambda f: [i for i in range(len(f))]),\n",
    "        )\n",
    "        .explode(['tokens', 'trailing_whitespace', 'token_keys'])\n",
    "        .with_columns(\n",
    "            token_len=pl.col('tokens').str.len_bytes(),\n",
    "        )\n",
    "        .with_columns(\n",
    "            token_len=pl.struct(['token_keys', 'token_len'])\n",
    "            .map_elements(lambda f: [f['token_keys']] * f['token_len'])\n",
    "        )\n",
    "        .with_columns(\n",
    "            token_len=pl.when(pl.col('trailing_whitespace') == True)\n",
    "            .then(pl.col('token_len').list.concat(-1))\n",
    "            .otherwise(pl.col('token_len')),\n",
    "            tokens_rec=pl.when(pl.col('trailing_whitespace') == True)\n",
    "            .then(pl.col('tokens').add(' '))\n",
    "            .otherwise(pl.col('tokens'))\n",
    "        )\n",
    "        .group_by('document', maintain_order=True)\n",
    "        .agg(\n",
    "            tokens=pl.col('tokens'),\n",
    "            token_key=pl.col('token_len').flatten(),\n",
    "            tokens_rec=pl.col('tokens_rec')\n",
    "        )\n",
    "        .with_columns(\n",
    "            token_rec=pl.col('tokens_rec')\n",
    "            .list.join(separator='')\n",
    "        )\n",
    "    )\n",
    "    if train:\n",
    "        temp = ((reshaped_df\n",
    "                 .join(df.select(['document', 'labels'])\n",
    "                       , on='document')\n",
    "                 )\n",
    "        )\n",
    "    else:\n",
    "        temp = reshaped_df\n",
    "    return temp"
   ]
  },
  {
   "cell_type": "code",
   "execution_count": 16,
   "id": "9f698858",
   "metadata": {},
   "outputs": [],
   "source": [
    " temp = load_data(test_path, train = True)\n",
    "    "
   ]
  },
  {
   "cell_type": "code",
   "execution_count": 17,
   "id": "d811d4aa",
   "metadata": {},
   "outputs": [],
   "source": [
    "\n",
    "def tokenize( r, model_directory=model_directory,stride = stride, max_length = max_length ):\n",
    "    txt = r['token_rec']\n",
    "    tokenizer = AutoTokenizer.from_pretrained(model_directory)\n",
    "    \n",
    "    inputs = tokenizer(txt , \n",
    "                       return_tensors=\"pt\", \n",
    "                       padding=True, \n",
    "                       truncation=True, \n",
    "                       return_offsets_mapping=True, \n",
    "                       return_overflowing_tokens = True,\n",
    "                       stride = stride,\n",
    "                       add_special_tokens=False,\n",
    "                       max_length= max_length)\n",
    "    \n",
    "    offset = inputs['offset_mapping'].tolist()\n",
    "    attention_mask = inputs['attention_mask'].tolist()\n",
    "    input_ids = inputs['input_ids'].tolist()\n",
    "    \n",
    "    \n",
    "    txt_= []\n",
    "    attention_mask_=[]\n",
    "    input_ids_=[]\n",
    "    offset_=[]\n",
    "    \n",
    "\n",
    "    for i, j in enumerate(offset):\n",
    "        txt_.append(tokenizer.convert_ids_to_tokens(inputs[\"input_ids\"][i].squeeze()))\n",
    "        attention_mask_.append(attention_mask[i])\n",
    "        input_ids_.append(input_ids[i])\n",
    "        offset_.append(j)\n",
    "    return {'txt':txt_, 'attention_mask': attention_mask_, 'input_ids':input_ids_, 'offset': offset_ }\n",
    "    \n",
    "    "
   ]
  },
  {
   "cell_type": "code",
   "execution_count": 18,
   "id": "87bee9f5",
   "metadata": {},
   "outputs": [
    {
     "name": "stdout",
     "output_type": "stream",
     "text": [
      "CPU times: total: 11min 42s\n",
      "Wall time: 21min 14s\n"
     ]
    }
   ],
   "source": [
    "%%time\n",
    "\n",
    " train = (\n",
    "    temp\n",
    "    .drop('tokens_rec')\n",
    "#     .fetch(10)\n",
    "     .collect()\n",
    "    .with_columns(\n",
    "        pl.struct('token_rec').map_elements(lambda f: tokenize(f)).alias('ll')\n",
    "    )\n",
    "    .unnest('ll')\n",
    "    .drop('token_rec')\n",
    "    .explode(['txt', 'attention_mask', 'input_ids','offset' ])\n",
    "    \n",
    ")"
   ]
  },
  {
   "cell_type": "code",
   "execution_count": 19,
   "id": "1fa98d49",
   "metadata": {},
   "outputs": [
    {
     "data": {
      "text/html": [
       "<div><style>\n",
       ".dataframe > thead > tr,\n",
       ".dataframe > tbody > tr {\n",
       "  text-align: right;\n",
       "  white-space: pre-wrap;\n",
       "}\n",
       "</style>\n",
       "<small>shape: (14_298, 8)</small><table border=\"1\" class=\"dataframe\"><thead><tr><th>document</th><th>tokens</th><th>token_key</th><th>labels</th><th>txt</th><th>attention_mask</th><th>input_ids</th><th>offset</th></tr><tr><td>i64</td><td>list[str]</td><td>list[i64]</td><td>list[str]</td><td>list[str]</td><td>list[i64]</td><td>list[i64]</td><td>list[list[i64]]</td></tr></thead><tbody><tr><td>7</td><td>[&quot;Design&quot;, &quot;Thinking&quot;, … &quot;\n",
       "\n",
       "&quot;]</td><td>[0, 0, … 752]</td><td>[&quot;O&quot;, &quot;O&quot;, … &quot;O&quot;]</td><td>[&quot;design&quot;, &quot;thinking&quot;, … &quot;/&quot;]</td><td>[1, 1, … 1]</td><td>[2640, 3241, … 1013]</td><td>[[0, 6], [7, 15], … [2171, 2172]]</td></tr><tr><td>7</td><td>[&quot;Design&quot;, &quot;Thinking&quot;, … &quot;\n",
       "\n",
       "&quot;]</td><td>[0, 0, … 752]</td><td>[&quot;O&quot;, &quot;O&quot;, … &quot;O&quot;]</td><td>[&quot;way&quot;, &quot;,&quot;, … &quot;[PAD]&quot;]</td><td>[1, 1, … 0]</td><td>[2126, 1010, … 0]</td><td>[[2078, 2081], [2081, 2082], … [0, 0]]</td></tr><tr><td>10</td><td>[&quot;Diego&quot;, &quot;Estrada&quot;, … &quot;\n",
       "\n",
       "&quot;]</td><td>[0, 0, … 562]</td><td>[&quot;B-NAME_STUDENT&quot;, &quot;I-NAME_STUDENT&quot;, … &quot;O&quot;]</td><td>[&quot;diego&quot;, &quot;estrada&quot;, … &quot;on&quot;]</td><td>[1, 1, … 1]</td><td>[5277, 26482, … 2006]</td><td>[[0, 5], [6, 13], … [2423, 2425]]</td></tr><tr><td>10</td><td>[&quot;Diego&quot;, &quot;Estrada&quot;, … &quot;\n",
       "\n",
       "&quot;]</td><td>[0, 0, … 562]</td><td>[&quot;B-NAME_STUDENT&quot;, &quot;I-NAME_STUDENT&quot;, … &quot;O&quot;]</td><td>[&quot;visual&quot;, &quot;##ization&quot;, … &quot;[PAD]&quot;]</td><td>[1, 1, … 0]</td><td>[5107, 3989, … 0]</td><td>[[2310, 2316], [2316, 2323], … [0, 0]]</td></tr><tr><td>16</td><td>[&quot;Reporting&quot;, &quot;process&quot;, … &quot;\n",
       "\n",
       "&quot;]</td><td>[0, 0, … 728]</td><td>[&quot;O&quot;, &quot;O&quot;, … &quot;O&quot;]</td><td>[&quot;reporting&quot;, &quot;process&quot;, … &quot;the&quot;]</td><td>[1, 1, … 1]</td><td>[7316, 2832, … 1996]</td><td>[[0, 9], [10, 17], … [2446, 2449]]</td></tr><tr><td>&hellip;</td><td>&hellip;</td><td>&hellip;</td><td>&hellip;</td><td>&hellip;</td><td>&hellip;</td><td>&hellip;</td><td>&hellip;</td></tr><tr><td>22681</td><td>[&quot;Challenge&quot;, &quot;\n",
       "\n",
       "&quot;, … &quot;\n",
       "\n",
       "&quot;]</td><td>[0, 0, … 632]</td><td>[&quot;O&quot;, &quot;O&quot;, … &quot;O&quot;]</td><td>[&quot;built&quot;, &quot;suspense&quot;, … &quot;[PAD]&quot;]</td><td>[1, 1, … 0]</td><td>[2328, 23873, … 0]</td><td>[[2226, 2231], [2232, 2240], … [0, 0]]</td></tr><tr><td>22684</td><td>[&quot;Brainstorming&quot;, &quot;\n",
       "\n",
       "&quot;, … &quot;\n",
       "\n",
       "&quot;]</td><td>[0, 0, … 678]</td><td>[&quot;O&quot;, &quot;O&quot;, … &quot;O&quot;]</td><td>[&quot;brains&quot;, &quot;##torm&quot;, … &quot;takes&quot;]</td><td>[1, 1, … 1]</td><td>[14332, 20654, … 3138]</td><td>[[0, 6], [6, 10], … [2361, 2366]]</td></tr><tr><td>22684</td><td>[&quot;Brainstorming&quot;, &quot;\n",
       "\n",
       "&quot;, … &quot;\n",
       "\n",
       "&quot;]</td><td>[0, 0, … 678]</td><td>[&quot;O&quot;, &quot;O&quot;, … &quot;O&quot;]</td><td>[&quot;also&quot;, &quot;figured&quot;, … &quot;[PAD]&quot;]</td><td>[1, 1, … 0]</td><td>[2036, 6618, … 0]</td><td>[[2262, 2266], [2267, 2274], … [0, 0]]</td></tr><tr><td>22687</td><td>[&quot;Mind&quot;, &quot;Mapping&quot;, … &quot;\n",
       "\n",
       "&quot;]</td><td>[0, 0, … 819]</td><td>[&quot;O&quot;, &quot;O&quot;, … &quot;O&quot;]</td><td>[&quot;mind&quot;, &quot;mapping&quot;, … &quot;discount&quot;]</td><td>[1, 1, … 1]</td><td>[2568, 12375, … 19575]</td><td>[[0, 4], [5, 12], … [2414, 2422]]</td></tr><tr><td>22687</td><td>[&quot;Mind&quot;, &quot;Mapping&quot;, … &quot;\n",
       "\n",
       "&quot;]</td><td>[0, 0, … 819]</td><td>[&quot;O&quot;, &quot;O&quot;, … &quot;O&quot;]</td><td>[&quot;home&quot;, &quot;,&quot;, … &quot;[PAD]&quot;]</td><td>[1, 1, … 0]</td><td>[2188, 1010, … 0]</td><td>[[2308, 2312], [2312, 2313], … [0, 0]]</td></tr></tbody></table></div>"
      ],
      "text/plain": [
       "shape: (14_298, 8)\n",
       "┌──────────┬───────────────┬───────────┬───────────────┬───────────────┬───────────────┬───────────────┬───────────────┐\n",
       "│ document ┆ tokens        ┆ token_key ┆ labels        ┆ txt           ┆ attention_mas ┆ input_ids     ┆ offset        │\n",
       "│ ---      ┆ ---           ┆ ---       ┆ ---           ┆ ---           ┆ k             ┆ ---           ┆ ---           │\n",
       "│ i64      ┆ list[str]     ┆ list[i64] ┆ list[str]     ┆ list[str]     ┆ ---           ┆ list[i64]     ┆ list[list[i64 │\n",
       "│          ┆               ┆           ┆               ┆               ┆ list[i64]     ┆               ┆ ]]            │\n",
       "╞══════════╪═══════════════╪═══════════╪═══════════════╪═══════════════╪═══════════════╪═══════════════╪═══════════════╡\n",
       "│ 7        ┆ [\"Design\",    ┆ [0, 0, …  ┆ [\"O\", \"O\", …  ┆ [\"design\",    ┆ [1, 1, … 1]   ┆ [2640, 3241,  ┆ [[0, 6], [7,  │\n",
       "│          ┆ \"Thinking\", … ┆ 752]      ┆ \"O\"]          ┆ \"thinking\", … ┆               ┆ … 1013]       ┆ 15], … [2171, │\n",
       "│          ┆ \"             ┆           ┆               ┆ \"/\"]          ┆               ┆               ┆ 2172]…        │\n",
       "│          ┆               ┆           ┆               ┆               ┆               ┆               ┆               │\n",
       "│          ┆ \"]            ┆           ┆               ┆               ┆               ┆               ┆               │\n",
       "│ 7        ┆ [\"Design\",    ┆ [0, 0, …  ┆ [\"O\", \"O\", …  ┆ [\"way\", \",\",  ┆ [1, 1, … 0]   ┆ [2126, 1010,  ┆ [[2078,       │\n",
       "│          ┆ \"Thinking\", … ┆ 752]      ┆ \"O\"]          ┆ … \"[PAD]\"]    ┆               ┆ … 0]          ┆ 2081], [2081, │\n",
       "│          ┆ \"             ┆           ┆               ┆               ┆               ┆               ┆ 2082], … […   │\n",
       "│          ┆               ┆           ┆               ┆               ┆               ┆               ┆               │\n",
       "│          ┆ \"]            ┆           ┆               ┆               ┆               ┆               ┆               │\n",
       "│ 10       ┆ [\"Diego\",     ┆ [0, 0, …  ┆ [\"B-NAME_STUD ┆ [\"diego\",     ┆ [1, 1, … 1]   ┆ [5277, 26482, ┆ [[0, 5], [6,  │\n",
       "│          ┆ \"Estrada\", …  ┆ 562]      ┆ ENT\", \"I-NAME ┆ \"estrada\", …  ┆               ┆ … 2006]       ┆ 13], … [2423, │\n",
       "│          ┆ \"             ┆           ┆ _STUDE…       ┆ \"on\"]         ┆               ┆               ┆ 2425]…        │\n",
       "│          ┆               ┆           ┆               ┆               ┆               ┆               ┆               │\n",
       "│          ┆ \"]            ┆           ┆               ┆               ┆               ┆               ┆               │\n",
       "│ 10       ┆ [\"Diego\",     ┆ [0, 0, …  ┆ [\"B-NAME_STUD ┆ [\"visual\",    ┆ [1, 1, … 0]   ┆ [5107, 3989,  ┆ [[2310,       │\n",
       "│          ┆ \"Estrada\", …  ┆ 562]      ┆ ENT\", \"I-NAME ┆ \"##ization\",  ┆               ┆ … 0]          ┆ 2316], [2316, │\n",
       "│          ┆ \"             ┆           ┆ _STUDE…       ┆ … \"[PAD]…     ┆               ┆               ┆ 2323], … […   │\n",
       "│          ┆               ┆           ┆               ┆               ┆               ┆               ┆               │\n",
       "│          ┆ \"]            ┆           ┆               ┆               ┆               ┆               ┆               │\n",
       "│ 16       ┆ [\"Reporting\", ┆ [0, 0, …  ┆ [\"O\", \"O\", …  ┆ [\"reporting\", ┆ [1, 1, … 1]   ┆ [7316, 2832,  ┆ [[0, 9], [10, │\n",
       "│          ┆ \"process\", …  ┆ 728]      ┆ \"O\"]          ┆ \"process\", …  ┆               ┆ … 1996]       ┆ 17], … [2446, │\n",
       "│          ┆ \"             ┆           ┆               ┆ \"the\"…        ┆               ┆               ┆ 2449…         │\n",
       "│          ┆               ┆           ┆               ┆               ┆               ┆               ┆               │\n",
       "│          ┆ \"]            ┆           ┆               ┆               ┆               ┆               ┆               │\n",
       "│ …        ┆ …             ┆ …         ┆ …             ┆ …             ┆ …             ┆ …             ┆ …             │\n",
       "│ 22681    ┆ [\"Challenge\", ┆ [0, 0, …  ┆ [\"O\", \"O\", …  ┆ [\"built\",     ┆ [1, 1, … 0]   ┆ [2328, 23873, ┆ [[2226,       │\n",
       "│          ┆ \"             ┆ 632]      ┆ \"O\"]          ┆ \"suspense\", … ┆               ┆ … 0]          ┆ 2231], [2232, │\n",
       "│          ┆               ┆           ┆               ┆ \"[PAD]\"]      ┆               ┆               ┆ 2240], … […   │\n",
       "│          ┆ \", … \"        ┆           ┆               ┆               ┆               ┆               ┆               │\n",
       "│          ┆               ┆           ┆               ┆               ┆               ┆               ┆               │\n",
       "│          ┆ \"]            ┆           ┆               ┆               ┆               ┆               ┆               │\n",
       "│ 22684    ┆ [\"Brainstormi ┆ [0, 0, …  ┆ [\"O\", \"O\", …  ┆ [\"brains\",    ┆ [1, 1, … 1]   ┆ [14332,       ┆ [[0, 6], [6,  │\n",
       "│          ┆ ng\", \"        ┆ 678]      ┆ \"O\"]          ┆ \"##torm\", …   ┆               ┆ 20654, …      ┆ 10], … [2361, │\n",
       "│          ┆               ┆           ┆               ┆ \"takes\"]      ┆               ┆ 3138]         ┆ 2366]…        │\n",
       "│          ┆ \", … \"        ┆           ┆               ┆               ┆               ┆               ┆               │\n",
       "│          ┆               ┆           ┆               ┆               ┆               ┆               ┆               │\n",
       "│          ┆ \"]            ┆           ┆               ┆               ┆               ┆               ┆               │\n",
       "│ 22684    ┆ [\"Brainstormi ┆ [0, 0, …  ┆ [\"O\", \"O\", …  ┆ [\"also\",      ┆ [1, 1, … 0]   ┆ [2036, 6618,  ┆ [[2262,       │\n",
       "│          ┆ ng\", \"        ┆ 678]      ┆ \"O\"]          ┆ \"figured\", …  ┆               ┆ … 0]          ┆ 2266], [2267, │\n",
       "│          ┆               ┆           ┆               ┆ \"[PAD]\"]      ┆               ┆               ┆ 2274], … […   │\n",
       "│          ┆ \", … \"        ┆           ┆               ┆               ┆               ┆               ┆               │\n",
       "│          ┆               ┆           ┆               ┆               ┆               ┆               ┆               │\n",
       "│          ┆ \"]            ┆           ┆               ┆               ┆               ┆               ┆               │\n",
       "│ 22687    ┆ [\"Mind\",      ┆ [0, 0, …  ┆ [\"O\", \"O\", …  ┆ [\"mind\",      ┆ [1, 1, … 1]   ┆ [2568, 12375, ┆ [[0, 4], [5,  │\n",
       "│          ┆ \"Mapping\", …  ┆ 819]      ┆ \"O\"]          ┆ \"mapping\", …  ┆               ┆ … 19575]      ┆ 12], … [2414, │\n",
       "│          ┆ \"             ┆           ┆               ┆ \"discount\"…   ┆               ┆               ┆ 2422]…        │\n",
       "│          ┆               ┆           ┆               ┆               ┆               ┆               ┆               │\n",
       "│          ┆ \"]            ┆           ┆               ┆               ┆               ┆               ┆               │\n",
       "│ 22687    ┆ [\"Mind\",      ┆ [0, 0, …  ┆ [\"O\", \"O\", …  ┆ [\"home\", \",\", ┆ [1, 1, … 0]   ┆ [2188, 1010,  ┆ [[2308,       │\n",
       "│          ┆ \"Mapping\", …  ┆ 819]      ┆ \"O\"]          ┆ … \"[PAD]\"]    ┆               ┆ … 0]          ┆ 2312], [2312, │\n",
       "│          ┆ \"             ┆           ┆               ┆               ┆               ┆               ┆ 2313], … […   │\n",
       "│          ┆               ┆           ┆               ┆               ┆               ┆               ┆               │\n",
       "│          ┆ \"]            ┆           ┆               ┆               ┆               ┆               ┆               │\n",
       "└──────────┴───────────────┴───────────┴───────────────┴───────────────┴───────────────┴───────────────┴───────────────┘"
      ]
     },
     "execution_count": 19,
     "metadata": {},
     "output_type": "execute_result"
    }
   ],
   "source": [
    "# import joblib\n",
    "train "
   ]
  },
  {
   "cell_type": "code",
   "execution_count": 20,
   "id": "fbdf32b4",
   "metadata": {},
   "outputs": [
    {
     "data": {
      "text/plain": [
       "['train']"
      ]
     },
     "execution_count": 20,
     "metadata": {},
     "output_type": "execute_result"
    }
   ],
   "source": [
    "joblib.dump(train, 'train')"
   ]
  },
  {
   "cell_type": "code",
   "execution_count": null,
   "id": "d7c052fc",
   "metadata": {},
   "outputs": [],
   "source": []
  }
 ],
 "metadata": {
  "kernelspec": {
   "display_name": "Python 3 (ipykernel)",
   "language": "python",
   "name": "python3"
  },
  "language_info": {
   "codemirror_mode": {
    "name": "ipython",
    "version": 3
   },
   "file_extension": ".py",
   "mimetype": "text/x-python",
   "name": "python",
   "nbconvert_exporter": "python",
   "pygments_lexer": "ipython3",
   "version": "3.11.4"
  }
 },
 "nbformat": 4,
 "nbformat_minor": 5
}
