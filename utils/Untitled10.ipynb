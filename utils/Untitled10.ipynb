{
  "nbformat": 4,
  "nbformat_minor": 0,
  "metadata": {
    "colab": {
      "provenance": [],
      "gpuType": "T4"
    },
    "kernelspec": {
      "name": "python3",
      "display_name": "Python 3"
    },
    "language_info": {
      "name": "python"
    },
    "accelerator": "GPU",
    "widgets": {
      "application/vnd.jupyter.widget-state+json": {
        "b4110294893b427f948a653565ac305c": {
          "model_module": "@jupyter-widgets/controls",
          "model_name": "HBoxModel",
          "model_module_version": "1.5.0",
          "state": {
            "_dom_classes": [],
            "_model_module": "@jupyter-widgets/controls",
            "_model_module_version": "1.5.0",
            "_model_name": "HBoxModel",
            "_view_count": null,
            "_view_module": "@jupyter-widgets/controls",
            "_view_module_version": "1.5.0",
            "_view_name": "HBoxView",
            "box_style": "",
            "children": [
              "IPY_MODEL_aa43d6880fa949b0929d002f7d479da1",
              "IPY_MODEL_acccc258a35a4abaacb76c95f9f7f28a",
              "IPY_MODEL_2850445c0b9942a28fa42fb5b4a6406f"
            ],
            "layout": "IPY_MODEL_8d273946c98741ba96d61f3fda258ce9"
          }
        },
        "aa43d6880fa949b0929d002f7d479da1": {
          "model_module": "@jupyter-widgets/controls",
          "model_name": "HTMLModel",
          "model_module_version": "1.5.0",
          "state": {
            "_dom_classes": [],
            "_model_module": "@jupyter-widgets/controls",
            "_model_module_version": "1.5.0",
            "_model_name": "HTMLModel",
            "_view_count": null,
            "_view_module": "@jupyter-widgets/controls",
            "_view_module_version": "1.5.0",
            "_view_name": "HTMLView",
            "description": "",
            "description_tooltip": null,
            "layout": "IPY_MODEL_06cce9a0dadd4e47bd611aacb573778b",
            "placeholder": "​",
            "style": "IPY_MODEL_dc679d128f57495f952d339138e90cfc",
            "value": "Map: 100%"
          }
        },
        "acccc258a35a4abaacb76c95f9f7f28a": {
          "model_module": "@jupyter-widgets/controls",
          "model_name": "FloatProgressModel",
          "model_module_version": "1.5.0",
          "state": {
            "_dom_classes": [],
            "_model_module": "@jupyter-widgets/controls",
            "_model_module_version": "1.5.0",
            "_model_name": "FloatProgressModel",
            "_view_count": null,
            "_view_module": "@jupyter-widgets/controls",
            "_view_module_version": "1.5.0",
            "_view_name": "ProgressView",
            "bar_style": "success",
            "description": "",
            "description_tooltip": null,
            "layout": "IPY_MODEL_553cd3f02a274e8dbe6230746b3b0c72",
            "max": 368,
            "min": 0,
            "orientation": "horizontal",
            "style": "IPY_MODEL_cf03c0894cb44d90bac5dd096005f7e3",
            "value": 368
          }
        },
        "2850445c0b9942a28fa42fb5b4a6406f": {
          "model_module": "@jupyter-widgets/controls",
          "model_name": "HTMLModel",
          "model_module_version": "1.5.0",
          "state": {
            "_dom_classes": [],
            "_model_module": "@jupyter-widgets/controls",
            "_model_module_version": "1.5.0",
            "_model_name": "HTMLModel",
            "_view_count": null,
            "_view_module": "@jupyter-widgets/controls",
            "_view_module_version": "1.5.0",
            "_view_name": "HTMLView",
            "description": "",
            "description_tooltip": null,
            "layout": "IPY_MODEL_9ff112d5508e46108a55615f706fdaba",
            "placeholder": "​",
            "style": "IPY_MODEL_9ba949515df14e0c811f31d3ffef13c8",
            "value": " 368/368 [00:00&lt;00:00, 382.33 examples/s]"
          }
        },
        "8d273946c98741ba96d61f3fda258ce9": {
          "model_module": "@jupyter-widgets/base",
          "model_name": "LayoutModel",
          "model_module_version": "1.2.0",
          "state": {
            "_model_module": "@jupyter-widgets/base",
            "_model_module_version": "1.2.0",
            "_model_name": "LayoutModel",
            "_view_count": null,
            "_view_module": "@jupyter-widgets/base",
            "_view_module_version": "1.2.0",
            "_view_name": "LayoutView",
            "align_content": null,
            "align_items": null,
            "align_self": null,
            "border": null,
            "bottom": null,
            "display": null,
            "flex": null,
            "flex_flow": null,
            "grid_area": null,
            "grid_auto_columns": null,
            "grid_auto_flow": null,
            "grid_auto_rows": null,
            "grid_column": null,
            "grid_gap": null,
            "grid_row": null,
            "grid_template_areas": null,
            "grid_template_columns": null,
            "grid_template_rows": null,
            "height": null,
            "justify_content": null,
            "justify_items": null,
            "left": null,
            "margin": null,
            "max_height": null,
            "max_width": null,
            "min_height": null,
            "min_width": null,
            "object_fit": null,
            "object_position": null,
            "order": null,
            "overflow": null,
            "overflow_x": null,
            "overflow_y": null,
            "padding": null,
            "right": null,
            "top": null,
            "visibility": null,
            "width": null
          }
        },
        "06cce9a0dadd4e47bd611aacb573778b": {
          "model_module": "@jupyter-widgets/base",
          "model_name": "LayoutModel",
          "model_module_version": "1.2.0",
          "state": {
            "_model_module": "@jupyter-widgets/base",
            "_model_module_version": "1.2.0",
            "_model_name": "LayoutModel",
            "_view_count": null,
            "_view_module": "@jupyter-widgets/base",
            "_view_module_version": "1.2.0",
            "_view_name": "LayoutView",
            "align_content": null,
            "align_items": null,
            "align_self": null,
            "border": null,
            "bottom": null,
            "display": null,
            "flex": null,
            "flex_flow": null,
            "grid_area": null,
            "grid_auto_columns": null,
            "grid_auto_flow": null,
            "grid_auto_rows": null,
            "grid_column": null,
            "grid_gap": null,
            "grid_row": null,
            "grid_template_areas": null,
            "grid_template_columns": null,
            "grid_template_rows": null,
            "height": null,
            "justify_content": null,
            "justify_items": null,
            "left": null,
            "margin": null,
            "max_height": null,
            "max_width": null,
            "min_height": null,
            "min_width": null,
            "object_fit": null,
            "object_position": null,
            "order": null,
            "overflow": null,
            "overflow_x": null,
            "overflow_y": null,
            "padding": null,
            "right": null,
            "top": null,
            "visibility": null,
            "width": null
          }
        },
        "dc679d128f57495f952d339138e90cfc": {
          "model_module": "@jupyter-widgets/controls",
          "model_name": "DescriptionStyleModel",
          "model_module_version": "1.5.0",
          "state": {
            "_model_module": "@jupyter-widgets/controls",
            "_model_module_version": "1.5.0",
            "_model_name": "DescriptionStyleModel",
            "_view_count": null,
            "_view_module": "@jupyter-widgets/base",
            "_view_module_version": "1.2.0",
            "_view_name": "StyleView",
            "description_width": ""
          }
        },
        "553cd3f02a274e8dbe6230746b3b0c72": {
          "model_module": "@jupyter-widgets/base",
          "model_name": "LayoutModel",
          "model_module_version": "1.2.0",
          "state": {
            "_model_module": "@jupyter-widgets/base",
            "_model_module_version": "1.2.0",
            "_model_name": "LayoutModel",
            "_view_count": null,
            "_view_module": "@jupyter-widgets/base",
            "_view_module_version": "1.2.0",
            "_view_name": "LayoutView",
            "align_content": null,
            "align_items": null,
            "align_self": null,
            "border": null,
            "bottom": null,
            "display": null,
            "flex": null,
            "flex_flow": null,
            "grid_area": null,
            "grid_auto_columns": null,
            "grid_auto_flow": null,
            "grid_auto_rows": null,
            "grid_column": null,
            "grid_gap": null,
            "grid_row": null,
            "grid_template_areas": null,
            "grid_template_columns": null,
            "grid_template_rows": null,
            "height": null,
            "justify_content": null,
            "justify_items": null,
            "left": null,
            "margin": null,
            "max_height": null,
            "max_width": null,
            "min_height": null,
            "min_width": null,
            "object_fit": null,
            "object_position": null,
            "order": null,
            "overflow": null,
            "overflow_x": null,
            "overflow_y": null,
            "padding": null,
            "right": null,
            "top": null,
            "visibility": null,
            "width": null
          }
        },
        "cf03c0894cb44d90bac5dd096005f7e3": {
          "model_module": "@jupyter-widgets/controls",
          "model_name": "ProgressStyleModel",
          "model_module_version": "1.5.0",
          "state": {
            "_model_module": "@jupyter-widgets/controls",
            "_model_module_version": "1.5.0",
            "_model_name": "ProgressStyleModel",
            "_view_count": null,
            "_view_module": "@jupyter-widgets/base",
            "_view_module_version": "1.2.0",
            "_view_name": "StyleView",
            "bar_color": null,
            "description_width": ""
          }
        },
        "9ff112d5508e46108a55615f706fdaba": {
          "model_module": "@jupyter-widgets/base",
          "model_name": "LayoutModel",
          "model_module_version": "1.2.0",
          "state": {
            "_model_module": "@jupyter-widgets/base",
            "_model_module_version": "1.2.0",
            "_model_name": "LayoutModel",
            "_view_count": null,
            "_view_module": "@jupyter-widgets/base",
            "_view_module_version": "1.2.0",
            "_view_name": "LayoutView",
            "align_content": null,
            "align_items": null,
            "align_self": null,
            "border": null,
            "bottom": null,
            "display": null,
            "flex": null,
            "flex_flow": null,
            "grid_area": null,
            "grid_auto_columns": null,
            "grid_auto_flow": null,
            "grid_auto_rows": null,
            "grid_column": null,
            "grid_gap": null,
            "grid_row": null,
            "grid_template_areas": null,
            "grid_template_columns": null,
            "grid_template_rows": null,
            "height": null,
            "justify_content": null,
            "justify_items": null,
            "left": null,
            "margin": null,
            "max_height": null,
            "max_width": null,
            "min_height": null,
            "min_width": null,
            "object_fit": null,
            "object_position": null,
            "order": null,
            "overflow": null,
            "overflow_x": null,
            "overflow_y": null,
            "padding": null,
            "right": null,
            "top": null,
            "visibility": null,
            "width": null
          }
        },
        "9ba949515df14e0c811f31d3ffef13c8": {
          "model_module": "@jupyter-widgets/controls",
          "model_name": "DescriptionStyleModel",
          "model_module_version": "1.5.0",
          "state": {
            "_model_module": "@jupyter-widgets/controls",
            "_model_module_version": "1.5.0",
            "_model_name": "DescriptionStyleModel",
            "_view_count": null,
            "_view_module": "@jupyter-widgets/base",
            "_view_module_version": "1.2.0",
            "_view_name": "StyleView",
            "description_width": ""
          }
        }
      }
    }
  },
  "cells": [
    {
      "cell_type": "code",
      "execution_count": 1,
      "metadata": {
        "colab": {
          "base_uri": "https://localhost:8080/"
        },
        "id": "BSlpfgH1F5od",
        "outputId": "f6d402d4-3422-46db-fd25-6bf64b8498f7"
      },
      "outputs": [
        {
          "output_type": "stream",
          "name": "stdout",
          "text": [
            "Mounted at /content/drive\n"
          ]
        }
      ],
      "source": [
        "\n",
        "from google.colab import drive\n",
        "drive.mount('/content/drive')\n",
        "\n"
      ]
    },
    {
      "cell_type": "code",
      "source": [
        "%%capture\n",
        "\n",
        "!pip install --upgrade bitsandbytes transformers peft accelerate datasets trl"
      ],
      "metadata": {
        "id": "0xSwhcHOG5SF"
      },
      "execution_count": 2,
      "outputs": []
    },
    {
      "cell_type": "code",
      "source": [
        "from datasets import load_dataset\n",
        "from transformers import MPNetTokenizer, DataCollatorForLanguageModeling\n",
        "from transformers import MPNetForMaskedLM, Trainer, TrainingArguments\n",
        "import torch\n",
        "from sklearn.metrics import accuracy_score, precision_recall_fscore_support"
      ],
      "metadata": {
        "id": "H51Szi__HgXU"
      },
      "execution_count": 27,
      "outputs": []
    },
    {
      "cell_type": "code",
      "source": [
        "\n",
        "\n",
        "device = torch.device(\"cuda\" if torch.cuda.is_available() else \"cpu\")"
      ],
      "metadata": {
        "id": "TJnO9JmsJXr6"
      },
      "execution_count": 34,
      "outputs": []
    },
    {
      "cell_type": "code",
      "source": [
        "dataset = (load_dataset(\"wikitext\", \"wikitext-2-raw-v1\", split=\"train\")\n",
        "          .shard(num_shards=10, index=0)\n",
        "          )\n",
        "\n",
        "split_dataset = dataset.train_test_split(test_size=0.2, seed=42)\n",
        "train_dataset = split_dataset[\"train\"]\n",
        "temp_eval_test_dataset = split_dataset[\"test\"]\n",
        "\n",
        "\n",
        "split_eval_test = temp_eval_test_dataset.train_test_split(test_size=0.5, seed=42)\n",
        "eval_dataset = split_eval_test[\"train\"]\n",
        "test_dataset = split_eval_test[\"test\"]\n",
        "\n",
        "\n"
      ],
      "metadata": {
        "id": "B43RNLASIc39"
      },
      "execution_count": 35,
      "outputs": []
    },
    {
      "cell_type": "code",
      "source": [
        "tokenizer = MPNetTokenizer.from_pretrained(\"microsoft/mpnet-base\")\n",
        "\n",
        "def tokenize_function(examples):\n",
        "    return tokenizer(examples[\"text\"], truncation=True, padding=\"max_length\", max_length=128)\n",
        "\n",
        "train_hf = train_dataset.map(tokenize_function, batched=True)\n",
        "eval_hf = eval_dataset.map(tokenize_function, batched=True)\n",
        "test_hf = test_dataset.map(tokenize_function, batched=True)\n",
        "\n",
        "data_collator = DataCollatorForLanguageModeling(\n",
        "    tokenizer=tokenizer, mlm=True, mlm_probability=0.15\n",
        ")"
      ],
      "metadata": {
        "colab": {
          "base_uri": "https://localhost:8080/",
          "height": 49,
          "referenced_widgets": [
            "b4110294893b427f948a653565ac305c",
            "aa43d6880fa949b0929d002f7d479da1",
            "acccc258a35a4abaacb76c95f9f7f28a",
            "2850445c0b9942a28fa42fb5b4a6406f",
            "8d273946c98741ba96d61f3fda258ce9",
            "06cce9a0dadd4e47bd611aacb573778b",
            "dc679d128f57495f952d339138e90cfc",
            "553cd3f02a274e8dbe6230746b3b0c72",
            "cf03c0894cb44d90bac5dd096005f7e3",
            "9ff112d5508e46108a55615f706fdaba",
            "9ba949515df14e0c811f31d3ffef13c8"
          ]
        },
        "id": "kaMkuOmvIqbD",
        "outputId": "c647e693-00fc-434c-989b-72b10b875563"
      },
      "execution_count": 38,
      "outputs": [
        {
          "output_type": "display_data",
          "data": {
            "text/plain": [
              "Map:   0%|          | 0/368 [00:00<?, ? examples/s]"
            ],
            "application/vnd.jupyter.widget-view+json": {
              "version_major": 2,
              "version_minor": 0,
              "model_id": "b4110294893b427f948a653565ac305c"
            }
          },
          "metadata": {}
        }
      ]
    },
    {
      "cell_type": "code",
      "source": [
        "\n",
        "model = MPNetForMaskedLM.from_pretrained(\"microsoft/mpnet-base\").to(device)\n",
        "\n",
        "trainer = Trainer(\n",
        "    model=model,\n",
        "\n",
        "    train_dataset=train_hf,\n",
        "    data_collator=data_collator,\n",
        "    eval_dataset=eval_hf,\n",
        "\n",
        "\n",
        "    args= TrainingArguments(\n",
        "                  output_dir=\"./results\",\n",
        "                  per_device_train_batch_size=16,\n",
        "                  per_device_eval_batch_size=16,\n",
        "                  evaluation_strategy=\"steps\",\n",
        "                  logging_steps=25,\n",
        "            )\n",
        ")\n"
      ],
      "metadata": {
        "colab": {
          "base_uri": "https://localhost:8080/"
        },
        "id": "Ifkw0vMQI3dO",
        "outputId": "e9036c0d-ddbb-41cd-f861-702c07270770"
      },
      "execution_count": 44,
      "outputs": [
        {
          "output_type": "stream",
          "name": "stderr",
          "text": [
            "/usr/local/lib/python3.10/dist-packages/transformers/training_args.py:1545: FutureWarning: `evaluation_strategy` is deprecated and will be removed in version 4.46 of 🤗 Transformers. Use `eval_strategy` instead\n",
            "  warnings.warn(\n"
          ]
        }
      ]
    },
    {
      "cell_type": "code",
      "source": [
        "trainer.train()\n"
      ],
      "metadata": {
        "colab": {
          "base_uri": "https://localhost:8080/",
          "height": 801
        },
        "id": "lG1C78xwKA7M",
        "outputId": "0bf4d872-72c8-4080-df17-37df093def7c"
      },
      "execution_count": 45,
      "outputs": [
        {
          "output_type": "display_data",
          "data": {
            "text/plain": [
              "<IPython.core.display.HTML object>"
            ],
            "text/html": [
              "\n",
              "    <div>\n",
              "      \n",
              "      <progress value='552' max='552' style='width:300px; height:20px; vertical-align: middle;'></progress>\n",
              "      [552/552 05:25, Epoch 3/3]\n",
              "    </div>\n",
              "    <table border=\"1\" class=\"dataframe\">\n",
              "  <thead>\n",
              " <tr style=\"text-align: left;\">\n",
              "      <th>Step</th>\n",
              "      <th>Training Loss</th>\n",
              "      <th>Validation Loss</th>\n",
              "    </tr>\n",
              "  </thead>\n",
              "  <tbody>\n",
              "    <tr>\n",
              "      <td>25</td>\n",
              "      <td>2.050700</td>\n",
              "      <td>1.680796</td>\n",
              "    </tr>\n",
              "    <tr>\n",
              "      <td>50</td>\n",
              "      <td>1.903600</td>\n",
              "      <td>1.681210</td>\n",
              "    </tr>\n",
              "    <tr>\n",
              "      <td>75</td>\n",
              "      <td>1.914000</td>\n",
              "      <td>1.657127</td>\n",
              "    </tr>\n",
              "    <tr>\n",
              "      <td>100</td>\n",
              "      <td>1.963800</td>\n",
              "      <td>1.670325</td>\n",
              "    </tr>\n",
              "    <tr>\n",
              "      <td>125</td>\n",
              "      <td>1.857600</td>\n",
              "      <td>1.696592</td>\n",
              "    </tr>\n",
              "    <tr>\n",
              "      <td>150</td>\n",
              "      <td>1.927200</td>\n",
              "      <td>1.663147</td>\n",
              "    </tr>\n",
              "    <tr>\n",
              "      <td>175</td>\n",
              "      <td>1.861200</td>\n",
              "      <td>1.508343</td>\n",
              "    </tr>\n",
              "    <tr>\n",
              "      <td>200</td>\n",
              "      <td>1.747100</td>\n",
              "      <td>1.705768</td>\n",
              "    </tr>\n",
              "    <tr>\n",
              "      <td>225</td>\n",
              "      <td>1.753300</td>\n",
              "      <td>1.546630</td>\n",
              "    </tr>\n",
              "    <tr>\n",
              "      <td>250</td>\n",
              "      <td>1.689300</td>\n",
              "      <td>1.661774</td>\n",
              "    </tr>\n",
              "    <tr>\n",
              "      <td>275</td>\n",
              "      <td>1.883200</td>\n",
              "      <td>1.631794</td>\n",
              "    </tr>\n",
              "    <tr>\n",
              "      <td>300</td>\n",
              "      <td>1.730200</td>\n",
              "      <td>1.594450</td>\n",
              "    </tr>\n",
              "    <tr>\n",
              "      <td>325</td>\n",
              "      <td>1.664100</td>\n",
              "      <td>1.524964</td>\n",
              "    </tr>\n",
              "    <tr>\n",
              "      <td>350</td>\n",
              "      <td>1.697200</td>\n",
              "      <td>1.600785</td>\n",
              "    </tr>\n",
              "    <tr>\n",
              "      <td>375</td>\n",
              "      <td>1.672000</td>\n",
              "      <td>1.581636</td>\n",
              "    </tr>\n",
              "    <tr>\n",
              "      <td>400</td>\n",
              "      <td>1.721600</td>\n",
              "      <td>1.641829</td>\n",
              "    </tr>\n",
              "    <tr>\n",
              "      <td>425</td>\n",
              "      <td>1.711500</td>\n",
              "      <td>1.655316</td>\n",
              "    </tr>\n",
              "    <tr>\n",
              "      <td>450</td>\n",
              "      <td>1.731900</td>\n",
              "      <td>1.559828</td>\n",
              "    </tr>\n",
              "    <tr>\n",
              "      <td>475</td>\n",
              "      <td>1.695200</td>\n",
              "      <td>1.479772</td>\n",
              "    </tr>\n",
              "    <tr>\n",
              "      <td>500</td>\n",
              "      <td>1.579400</td>\n",
              "      <td>1.613921</td>\n",
              "    </tr>\n",
              "    <tr>\n",
              "      <td>525</td>\n",
              "      <td>1.675100</td>\n",
              "      <td>1.480899</td>\n",
              "    </tr>\n",
              "    <tr>\n",
              "      <td>550</td>\n",
              "      <td>1.692700</td>\n",
              "      <td>1.601016</td>\n",
              "    </tr>\n",
              "  </tbody>\n",
              "</table><p>"
            ]
          },
          "metadata": {}
        },
        {
          "output_type": "execute_result",
          "data": {
            "text/plain": [
              "TrainOutput(global_step=552, training_loss=1.777963924235192, metrics={'train_runtime': 326.155, 'train_samples_per_second': 27.015, 'train_steps_per_second': 1.692, 'total_flos': 579774435229440.0, 'train_loss': 1.777963924235192, 'epoch': 3.0})"
            ]
          },
          "metadata": {},
          "execution_count": 45
        }
      ]
    },
    {
      "cell_type": "code",
      "source": [
        "from torch.utils.data import DataLoader\n",
        "test_dataloader = DataLoader(test_hf, batch_size=16, shuffle=False)\n",
        "\n",
        "\n",
        "for batch in trainer.get_train_dataloader():\n",
        "    # print(batch)\n",
        "    input_ids = batch[\"input_ids\"].to(device)\n",
        "    labels = batch[\"labels\"].to(device)\n",
        "\n",
        "\n",
        "    with torch.no_grad():\n",
        "        outputs = model(input_ids=input_ids, labels=labels)\n",
        "        predictions = outputs.logits\n",
        "\n",
        "    mask_token_index = torch.where(input_ids == tokenizer.mask_token_id)\n",
        "    predicted_token_ids = torch.argmax(predictions[0, mask_token_index[1], :], dim=-1)\n",
        "    predicted_tokens = tokenizer.batch_decode(predicted_token_ids)\n",
        "    print(f\"Predicted tokens for masked positions: {predicted_tokens}\")\n",
        "    print()\n",
        "\n",
        "    break\n"
      ],
      "metadata": {
        "colab": {
          "base_uri": "https://localhost:8080/"
        },
        "id": "kA5wq0iIJ6ll",
        "outputId": "dc228b9b-ad11-4742-d701-85cc35f5d8ef"
      },
      "execution_count": 61,
      "outputs": [
        {
          "output_type": "stream",
          "name": "stdout",
          "text": [
            "Predicted tokens for masked positions: ['-', 'di', '-', 'br', '##s', '##s', '##s', '-', '##s', '-', '##s', '##s', '##s', '>', '-', '##s', '##s', '##s', '##s', '##s', '-', '##s', 'kit', '##s', \"'\", '-', '##s', '##s', '##s', '##s', '##ens', '\"', 'and', '##s', '-', '##s', '##s', '##s', '##s', '##s', 'br', '##s', '=', '##s', '##s', '>', '##s', '##s', '-', '##ne', '##s', '-', '-', '##s', '##s', '-', '##s', '-', 'br', 'liner', '##s', '##s', '##s', '-', 'br', '##s', '-', '##s', '>', '##s', '##s', '##s', '=', 'advertisement', '##s', '##s', 'to', '</s>', 'dr', '##s', '>', '##s', '##s', '-', '-', '##s', '##s', '##s', '=', '-', '##s', '-', '\"', '=', '##s']\n",
            "\n"
          ]
        }
      ]
    },
    {
      "cell_type": "code",
      "source": [],
      "metadata": {
        "id": "TSB_b0duJnro"
      },
      "execution_count": null,
      "outputs": []
    }
  ]
}